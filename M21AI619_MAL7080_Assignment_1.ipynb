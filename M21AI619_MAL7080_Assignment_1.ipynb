{
 "cells": [
  {
   "cell_type": "code",
   "execution_count": null,
   "metadata": {},
   "outputs": [],
   "source": [
    "#Dash and related modules\n",
    "import dash\n",
    "import dash_core_components as dcc\n",
    "import dash_html_components as html\n",
    "from dash.dependencies import Input, Output\n",
    "#plotly graph objects to create the plot itself\n",
    "import plotly.graph_objs as go\n",
    "\n",
    "iter=20000\n",
    "\n",
    "app= dash.Dash()\n",
    "#Our dash will be very simple, just the graph\n",
    "app.layout = html.Div([dcc.Graph(id='graph'),\n",
    "                       #and four sliders for the paramaters\n",
    "                      html.Div([html.Div(children='pray_growth_rate'),dcc.Slider(id='pray_growth_rate',\n",
    "                                     min=1,max=4,step=.05,marks = {1:'1',2:'2',3:'3',4:'4'},\n",
    "                                     value=2.5)]),\n",
    "                      html.Div([html.Div(children='prey_death_rate'),dcc.Slider(id='prey_death_rate',\n",
    "                                     min=0,max=2,step=.05,marks = {0:'0',1:'1',2:'2'},\n",
    "                                     value=.5)]),\n",
    "                      html.Div([html.Div(children='pred_death_rate'),dcc.Slider(id='pred_death_rate',\n",
    "                                     min=0,max=2,step=.05,marks = {0:'0',1:'1',2:'2'},\n",
    "                                     value=.7)]),\n",
    "                      html.Div([html.Div(children='pred_growth_rate'),dcc.Slider(id='pred_growth_rate',\n",
    "                                     min=0,max=1,step=.01,marks = {0:'0',.25:'.25',.5:'.5',.75:'.75',1:'1'},\n",
    "                                     value=.28)])])\n",
    "\n",
    "#Telling Dash that the sliders are inputs into the graph\n",
    "@app.callback(Output('graph','figure'),\n",
    "             [Input('pray_growth_rate','value'),\n",
    "             Input('prey_death_rate','value'),\n",
    "             Input('pred_death_rate','value'),\n",
    "             Input('pred_growth_rate','value')])\n",
    "#And this function takes the inputs, runs the model and plots the output\n",
    "def update_figure(pray_growth_rate,prey_death_rate,pred_death_rate,pred_growth_rate):\n",
    "    xs = [50]\n",
    "    ys = [10]\n",
    "    \n",
    "\n",
    "    for n in range(iter):\n",
    "        new_x = xs[-1] + ((pray_growth_rate - prey_death_rate*ys[-1])*xs[-1])*.01\n",
    "        new_y = ys[-1] + ((pred_growth_rate*xs[-1] - pred_death_rate)*ys[-1])*.01\n",
    "        xs.append(new_x)\n",
    "        ys.append(new_y)\n",
    "    \n",
    "    data = [go.Scatter(x=list(range(0,iter+1)), y=xs, mode='lines', name='Prey'),\n",
    "            go.Scatter(x=list(range(0,iter+1)), y=ys, mode='lines', name='Predator')]\n",
    "    layout = go.Layout(title = f'Lotka-Volterra')\n",
    "    return {'data':data,'layout':layout}\n",
    "\n",
    "\n",
    "app.run_server()"
   ]
  }
 ],
 "metadata": {
  "interpreter": {
   "hash": "2dd811fce2afded9f129816eb2df68d27e81ec4047765fb873324c67cc3bf6a1"
  },
  "kernelspec": {
   "display_name": "Python 3.8.10 64-bit",
   "language": "python",
   "name": "python3"
  },
  "language_info": {
   "codemirror_mode": {
    "name": "ipython",
    "version": 3
   },
   "file_extension": ".py",
   "mimetype": "text/x-python",
   "name": "python",
   "nbconvert_exporter": "python",
   "pygments_lexer": "ipython3",
   "version": "3.8.10"
  },
  "orig_nbformat": 4
 },
 "nbformat": 4,
 "nbformat_minor": 2
}
